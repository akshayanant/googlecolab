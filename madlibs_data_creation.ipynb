{
  "nbformat": 4,
  "nbformat_minor": 0,
  "metadata": {
    "colab": {
      "name": "madlibs_data_creation.ipynb",
      "provenance": [],
      "collapsed_sections": [],
      "authorship_tag": "ABX9TyMGwEQvrogzNH37az0yjmpJ",
      "include_colab_link": true
    },
    "kernelspec": {
      "name": "python3",
      "display_name": "Python 3"
    }
  },
  "cells": [
    {
      "cell_type": "markdown",
      "metadata": {
        "id": "view-in-github",
        "colab_type": "text"
      },
      "source": [
        "<a href=\"https://colab.research.google.com/github/akshayanant/googlecolab/blob/master/madlibs_data_creation.ipynb\" target=\"_parent\"><img src=\"https://colab.research.google.com/assets/colab-badge.svg\" alt=\"Open In Colab\"/></a>"
      ]
    },
    {
      "cell_type": "code",
      "metadata": {
        "id": "7RrzqSIkKTmA"
      },
      "source": [
        "import json\n",
        "from pycocotools.coco import COCO\n"
      ],
      "execution_count": null,
      "outputs": []
    },
    {
      "cell_type": "code",
      "metadata": {
        "id": "MD_cCWqfKbwf"
      },
      "source": [
        "person_activities = json.load(open('./tr_person_activities.json', 'r'))['tr_person_activities']\n",
        "person_attributes = json.load(open('./tr_person_attributes.json', 'r'))['tr_person_attributes']\n",
        "person_locations = json.load(open('./tr_person_locations.json', 'r'))['tr_person_locations']\n"
      ],
      "execution_count": null,
      "outputs": []
    },
    {
      "cell_type": "code",
      "metadata": {
        "id": "FS3KLopfNLqf",
        "outputId": "65e1d151-a17a-4941-8d43-70de690da95d",
        "colab": {
          "base_uri": "https://localhost:8080/",
          "height": 84
        }
      },
      "source": [
        "coco = COCO('./instances_val2014.json')\n"
      ],
      "execution_count": null,
      "outputs": [
        {
          "output_type": "stream",
          "text": [
            "loading annotations into memory...\n",
            "Done (t=5.71s)\n",
            "creating index...\n",
            "index created!\n"
          ],
          "name": "stdout"
        }
      ]
    },
    {
      "cell_type": "code",
      "metadata": {
        "id": "eWYFFzdPMtP-"
      },
      "source": [
        "\n",
        "def generate_data(data_list):\n",
        "  images = []\n",
        "  boxes = []\n",
        "  for data in data_list:\n",
        "    person_id_list = data['person_id_list']\n",
        "    if(len(person_id_list)>1):\n",
        "      continue\n",
        "    image_id = data['image_id']\n",
        "    prompt = data['prompt']\n",
        "    fitbs = data['fitbs']\n",
        "    helping_verb = prompt.split()[-1]\n",
        "    start = ' '.join(word for word in prompt.split()[:-1])\n",
        "    link = ' who ' + helping_verb \n",
        "    url = coco.loadImgs(ids=[image_id])[0]['coco_url']\n",
        "    bbox_id = person_id_list[0]\n",
        "    ann = coco.loadAnns(bbox_id)[0]\n",
        "    \n",
        "    flag = False\n",
        "    for fitb in fitbs:\n",
        "      if len(fitb.split())>5:\n",
        "        flag=True\n",
        "        ref_exp = '{0} {1}.'.format(start + link, fitb)\n",
        "        img_obj = {\n",
        "              'fileName' : url,\n",
        "              'reference_pairs': [\n",
        "                                    {\n",
        "                                    'boundingBox_id' : bbox_id,\n",
        "                                    'reference' : ref_exp\n",
        "                                    }\n",
        "                                ]\n",
        "            }\n",
        "        images.append(img_obj)\n",
        "    if flag:\n",
        "      bbox = ann['bbox']\n",
        "      box_obj = {\n",
        "        'box_id' : bbox_id,\n",
        "        'x' : bbox[0],\n",
        "        'y' : bbox[1],\n",
        "        'width' : bbox[2],\n",
        "        'height' : bbox[3]\n",
        "      }\n",
        "    boxes.append(box_obj)\n",
        "  return {\n",
        "      'images' : images,\n",
        "      'boxes' : boxes\n",
        "  }\n",
        "          \n",
        "\n",
        "\n",
        "\n"
      ],
      "execution_count": null,
      "outputs": []
    },
    {
      "cell_type": "code",
      "metadata": {
        "id": "mdaPpm5sjkSC"
      },
      "source": [
        "data_list = []\n",
        "data_list.extend(person_activities)\n",
        "data_list.extend(person_attributes)\n",
        "data_list.extend(person_locations)\n",
        "data = generate_data(data_list)\n"
      ],
      "execution_count": null,
      "outputs": []
    },
    {
      "cell_type": "code",
      "metadata": {
        "id": "0opO3O-Ek1ZW"
      },
      "source": [
        "with open('./Results.json','w') as file:\n",
        "  json.dump(data,file)"
      ],
      "execution_count": null,
      "outputs": []
    }
  ]
}