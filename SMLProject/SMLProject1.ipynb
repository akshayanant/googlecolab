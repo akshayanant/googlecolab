{
  "nbformat": 4,
  "nbformat_minor": 0,
  "metadata": {
    "colab": {
      "name": "SMLProject1.ipynb",
      "provenance": [],
      "include_colab_link": true
    },
    "kernelspec": {
      "name": "python3",
      "display_name": "Python 3"
    }
  },
  "cells": [
    {
      "cell_type": "markdown",
      "metadata": {
        "id": "view-in-github",
        "colab_type": "text"
      },
      "source": [
        "<a href=\"https://colab.research.google.com/github/akshayanant/googlecolab/blob/master/SMLProject1.ipynb\" target=\"_parent\"><img src=\"https://colab.research.google.com/assets/colab-badge.svg\" alt=\"Open In Colab\"/></a>"
      ]
    },
    {
      "cell_type": "code",
      "metadata": {
        "id": "9djL4Fq3F5y4",
        "colab_type": "code",
        "colab": {}
      },
      "source": [
        "import numpy as np\n",
        "import matplotlib.pyplot as plt\n",
        "import scipy.io\n",
        "import scipy.stats as stats\n",
        "from scipy.stats import norm\n",
        "import random\n"
      ],
      "execution_count": 0,
      "outputs": []
    },
    {
      "cell_type": "code",
      "metadata": {
        "id": "ZnkpsBhmF-VX",
        "colab_type": "code",
        "colab": {}
      },
      "source": [
        "Numpyfile= scipy.io.loadmat('mnist_data') \n",
        "random.seed(0)"
      ],
      "execution_count": 0,
      "outputs": []
    },
    {
      "cell_type": "code",
      "metadata": {
        "id": "DDkVwGxsG0q5",
        "colab_type": "code",
        "colab": {}
      },
      "source": [
        "#Extracting Data\n",
        "x_train = Numpyfile['trX']\n",
        "y_train = Numpyfile['trY']\n",
        "x_test = Numpyfile['tsX']\n",
        "y_test = Numpyfile['tsY']\n",
        "\n",
        "y_train = y_train.transpose()\n",
        "y_test = y_test.transpose()\n"
      ],
      "execution_count": 0,
      "outputs": []
    },
    {
      "cell_type": "code",
      "metadata": {
        "id": "O1g7a0dMKZNc",
        "colab_type": "code",
        "colab": {}
      },
      "source": [
        "class NBClassifier():\n",
        "  def __init__(self):\n",
        "    self.x1_7_mean = None\n",
        "    self.x2_7_mean = None\n",
        "    self.x1_8_mean = None\n",
        "    self.x2_8_mean = None\n",
        "    self.x1_7_std = None\n",
        "    self.x2_7_std = None\n",
        "    self.x1_8_std = None\n",
        "    self.x2_8_std = None\n",
        "    self.prob7 = None\n",
        "    self.prob8 = None\n",
        "    \n",
        "  def get_name(self):\n",
        "    return 'Naive Bayes'\n",
        "  \n",
        "  #Entry point to the classifier; to be triggered with the train data\n",
        "  def fit(self,X,Y,lr=0,epoch=0,plot=False):\n",
        "    train_7 = []\n",
        "    train_8 = []\n",
        "    for i in range(y_train.shape[0]):\n",
        "      if(y_train[i]==0):\n",
        "        train_7.append(x_train[i])\n",
        "      else:\n",
        "        train_8.append(x_train[i])\n",
        "    train_7 = np.asarray(train_7)\n",
        "    train_8 = np.asarray(train_8)  \n",
        "    self.extract_features(train_7,train_8,plot)\n",
        "    \n",
        "  \n",
        "  #Function Extracting Features \n",
        "  def extract_features(self,train_7,train_8,plot): \n",
        "    \n",
        "    x1_7 = train_7.mean(axis=1)\n",
        "    x2_7 = train_7.std(axis = 1)\n",
        "    x1_8 = train_8.mean(axis=1)\n",
        "    x2_8 = train_8.std(axis = 1)\n",
        "    self.calc_guassian(x1_7,x2_7,x1_8,x2_8,plot)\n",
        "    \n",
        "  #Function for Calculating Guassian Values for features\n",
        "  def calc_guassian(self,x1_7,x2_7,x1_8,x2_8,plot):\n",
        "    x1_7_mean = x1_7.mean(axis=0)\n",
        "    x2_7_mean = x2_7.mean(axis=0)\n",
        "    x1_8_mean = x1_8.mean(axis=0)\n",
        "    x2_8_mean = x2_8.mean(axis=0)\n",
        "    x1_7_std = x1_7.std(axis=0)\n",
        "    x2_7_std = x2_7.std(axis=0)\n",
        "    x1_8_std = x1_8.std(axis=0)\n",
        "    x2_8_std = x2_8.std(axis=0)\n",
        "    prob7 = x1_7.shape[0]/y_train.shape[0]\n",
        "    prob8 = x1_8.shape[0]/y_train.shape[0]\n",
        "    self.x1_7_mean = x1_7_mean\n",
        "    self.x2_7_mean = x2_7_mean\n",
        "    self.x1_8_mean = x1_8_mean\n",
        "    self.x2_8_mean = x2_8_mean\n",
        "    self.x1_7_std = x1_7_std\n",
        "    self.x2_7_std = x2_7_std\n",
        "    self.x1_8_std = x1_8_std\n",
        "    self.x2_8_std = x2_8_std\n",
        "    self.prob7 = prob7\n",
        "    self.prob8 = prob8\n",
        "    if(plot):\n",
        "      self.plot(x1_7,x1_8,x2_7,x2_8)\n",
        "      \n",
        "  \n",
        "  #Function for plotting the features   \n",
        "  def plot(self,x1_7,x1_8,x2_7,x2_8):\n",
        "    plt.plot(x1_7, stats.norm.pdf(x1_7, self.x1_7_mean, self.x1_7_std))\n",
        "    plt.show()\n",
        "    plt.plot(x1_8, stats.norm.pdf(x1_8, self.x1_8_mean, self.x1_8_std))\n",
        "    plt.show()\n",
        "    plt.plot(x2_7, stats.norm.pdf(x2_7, self.x2_7_mean, self.x2_7_std))\n",
        "    plt.show()\n",
        "    plt.plot(x2_8, stats.norm.pdf(x2_8, self.x2_8_mean, self.x2_8_std))\n",
        "    plt.show()\n",
        "    \n",
        "  #Function for predicting the output labels  \n",
        "  def predict(self,X):\n",
        "    pred = []\n",
        "    for x in X:\n",
        "      x_1 = x.mean()\n",
        "      x_2 = x.std()\n",
        "      p7 = norm.logpdf(x_1,self.x1_7_mean,self.x1_7_std)+norm.logpdf(x_2,self.x2_7_mean,self.x2_7_std)+np.log(self.prob7)\n",
        "      p8 = norm.logpdf(x_1,self.x1_8_mean,self.x1_8_std)+norm.logpdf(x_2,self.x2_8_mean,self.x2_8_std)+np.log(self.prob8)\n",
        "      if(p7>p8):\n",
        "        pred.append(0)\n",
        "      else:\n",
        "        pred.append(1)\n",
        "    return pred\n",
        "  \n",
        "  #Function for calculating the score\n",
        "  def score(self,X,Y):\n",
        "    pred = np.array(self.predict(X))\n",
        "    suc = 0;\n",
        "    tot=0\n",
        "    for i in range(pred.shape[0]):\n",
        "      tot+=1\n",
        "      if(pred[i]==Y[i]):\n",
        "        suc+=1\n",
        "    return suc/tot"
      ],
      "execution_count": 0,
      "outputs": []
    },
    {
      "cell_type": "code",
      "metadata": {
        "id": "eYX83OOxL5vw",
        "colab_type": "code",
        "colab": {}
      },
      "source": [
        "class LogisticRegression():\n",
        "  \n",
        "  def __init__(self):\n",
        "    self.w = None\n",
        "    \n",
        "  def get_name(self):\n",
        "    return 'Logistic Regression'\n",
        "    \n",
        "  def prepare_data(self,X):\n",
        "    X_compressed = np.zeros((X.shape[0],2))\n",
        "    X_compressed[:,0] = X.mean(axis=1)\n",
        "    X_compressed[:,1] = X.std(axis=1)\n",
        "    return X_compressed\n",
        "    \n",
        "  def perceptron(self,X):\n",
        "    return np.dot(X,self.w.T)\n",
        "  \n",
        "  def sigmoid(self,X):\n",
        "    return (1.0/(1.0+np.exp(-X)))\n",
        "  \n",
        "  def grad(self,X,Y):\n",
        "    y_pred = self.sigmoid(self.perceptron(X))\n",
        "    return (Y-y_pred)*X\n",
        "  \n",
        "  def fit(self,X,Y,lr=0.001,epoch = 10,plot=False):\n",
        "    acc=dict()\n",
        "    w1 = dict()\n",
        "    w2 = dict()\n",
        "    x_com = self.prepare_data(X)\n",
        "    self.w = np.zeros((1,x_com.shape[1]),dtype=float)\n",
        "    for e in range(epoch):\n",
        "      acc[e] = self.score(X,Y)\n",
        "      dw = 0\n",
        "      for x,y in zip(x_com,Y):\n",
        "        dw+=self.grad(x,y)\n",
        "      self.w+=lr*dw\n",
        "      w1[e] = self.w[0][0]\n",
        "      w2[e] = self.w[0][1]\n",
        "    if(plot):\n",
        "      plt.plot(acc.values())\n",
        "      plt.show()\n",
        "      plt.plot(w1.values())\n",
        "      plt.show()\n",
        "      plt.plot(w2.values())\n",
        "      plt.show()\n",
        " \n",
        "  def predict(self,X):\n",
        "    y_pred=[]\n",
        "    for x in X:\n",
        "      y_pred.append(self.sigmoid(self.perceptron(x)))  \n",
        "    return np.array(y_pred)\n",
        "  \n",
        "  def score(self,X,Y):\n",
        "    tot = 0\n",
        "    suc = 0\n",
        "    x_com = self.prepare_data(X)\n",
        "    pred = self.predict(x_com)\n",
        "    for i in range(Y.shape[0]):\n",
        "      tot+=1\n",
        "      if((Y[i]==0 and pred[i]<0.5) or (Y[i]==1 and pred[i]>0.5)):\n",
        "        suc+=1\n",
        "\n",
        "    return suc/tot\n",
        "    "
      ],
      "execution_count": 0,
      "outputs": []
    },
    {
      "cell_type": "code",
      "metadata": {
        "id": "-5NN3bz3MtId",
        "colab_type": "code",
        "colab": {}
      },
      "source": [
        "def driver(x_train,y_train,x_test,y_test,model,lr = 0.001,epoch = 10,plot = False):\n",
        "  model.fit(x_train,y_train,lr,epoch,plot)\n",
        "  tr_acc = model.score(x_train,y_train)\n",
        "  tst_acc = model.score(x_test,y_test)\n",
        "  print ('--------Results of %s Claassifier-----------'%model.get_name()) \n",
        "  print('Train Accuracy : %f'%tr_acc)\n",
        "  print('Test Accuracy : %f'%tst_acc)\n"
      ],
      "execution_count": 0,
      "outputs": []
    },
    {
      "cell_type": "code",
      "metadata": {
        "id": "fSGJfkd9MztV",
        "colab_type": "code",
        "colab": {
          "base_uri": "https://localhost:8080/",
          "height": 69
        },
        "outputId": "b4df0c3f-303b-4107-814d-31d17d0f25ca"
      },
      "source": [
        "model = NBClassifier()\n",
        "driver(x_train,y_train,x_test,y_test,model)\n",
        "\n"
      ],
      "execution_count": 74,
      "outputs": [
        {
          "output_type": "stream",
          "text": [
            "--------Results of Naive Bayes Claassifier-----------\n",
            "Train Accuracy : 0.683641\n",
            "Test Accuracy : 0.695305\n"
          ],
          "name": "stdout"
        }
      ]
    },
    {
      "cell_type": "code",
      "metadata": {
        "id": "aAKo8OSclrpQ",
        "colab_type": "code",
        "colab": {
          "base_uri": "https://localhost:8080/",
          "height": 825
        },
        "outputId": "cfc9f3c0-63fd-46cf-8dfd-2fc5fa835f01"
      },
      "source": [
        "model = LogisticRegression()\n",
        "driver(x_train,y_train,x_test,y_test,model,lr = 0.001,epoch=200,plot=True)"
      ],
      "execution_count": 75,
      "outputs": [
        {
          "output_type": "display_data",
          "data": {
            "image/png": "[encoded data removed]",
            "text/plain": [
              "<Figure size 432x288 with 1 Axes>"
            ]
          },
          "metadata": {
            "tags": []
          }
        },
        {
          "output_type": "display_data",
          "data": {
            "image/png": "[encoded data removed]",
            "text/plain": [
              "<Figure size 432x288 with 1 Axes>"
            ]
          },
          "metadata": {
            "tags": []
          }
        },
        {
          "output_type": "display_data",
          "data": {
            "image/png": "[encoded data removed]",
            "text/plain": [
              "<Figure size 432x288 with 1 Axes>"
            ]
          },
          "metadata": {
            "tags": []
          }
        },
        {
          "output_type": "stream",
          "text": [
            "--------Results of Logistic Regression Claassifier-----------\n",
            "Train Accuracy : 0.724331\n",
            "Test Accuracy : 0.749750\n"
          ],
          "name": "stdout"
        }
      ]
    },
    {
      "cell_type": "code",
      "metadata": {
        "id": "c5hIvVgAWEYX",
        "colab_type": "code",
        "colab": {}
      },
      "source": [
        ""
      ],
      "execution_count": 0,
      "outputs": []
    }
  ]
}