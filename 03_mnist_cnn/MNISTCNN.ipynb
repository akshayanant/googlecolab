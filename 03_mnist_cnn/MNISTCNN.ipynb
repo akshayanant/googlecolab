{
  "nbformat": 4,
  "nbformat_minor": 0,
  "metadata": {
    "colab": {
      "name": "MNISTCNN.ipynb",
      "provenance": [],
      "collapsed_sections": []
    },
    "kernelspec": {
      "name": "python3",
      "display_name": "Python 3"
    },
    "accelerator": "GPU"
  },
  "cells": [
    {
      "cell_type": "code",
      "metadata": {
        "id": "68CWUmDf_DSD",
        "colab_type": "code",
        "colab": {}
      },
      "source": [
        "import torch\n",
        "import numpy as np\n",
        "import matplotlib.pyplot as plt\n",
        "\n",
        "import torchvision\n",
        "import torchvision.transforms as transforms\n",
        "import torch.nn as nn\n",
        "import torch.optim as optim\n",
        "import torchvision.models as models"
      ],
      "execution_count": 0,
      "outputs": []
    },
    {
      "cell_type": "code",
      "metadata": {
        "id": "04CZL-Ej_PeW",
        "colab_type": "code",
        "colab": {}
      },
      "source": [
        "def get_train_loader():\n",
        "  batch_size = 64\n",
        "  transforms_train = transforms.Compose(transforms.ToTensor())\n",
        "  data_train = torchvision.datasets.MNIST(root='./data', train=True, \n",
        "                                        download=True, \n",
        "                                        transform=transforms.ToTensor())\n",
        "  trainloader = torch.utils.data.DataLoader(data_train,batch_size = batch_size,shuffle = True)\n",
        "  return trainloader\n",
        "\n",
        "def get_test_loader():\n",
        "  batch_size = 64\n",
        "  transforms_test = transforms.Compose( transforms.ToTensor())\n",
        "  data_test = torchvision.datasets.MNIST(root='./data', train=False, \n",
        "                                          download=True, \n",
        "                                          transform=transforms.ToTensor())\n",
        "  testloader = torch.utils.data.DataLoader(data_test,batch_size = batch_size,shuffle = True)\n",
        "  return testloader\n",
        "\n",
        "device = torch.device('cuda:0')"
      ],
      "execution_count": 0,
      "outputs": []
    },
    {
      "cell_type": "code",
      "metadata": {
        "id": "-oaK3EvNCpmw",
        "colab_type": "code",
        "colab": {}
      },
      "source": [
        "class MNISTCNNModel(nn.Module):\n",
        "    def __init__(self):\n",
        "      torch.manual_seed(0)\n",
        "      super(MNISTCNNModel, self).__init__()\n",
        "      self.net = self.modify_fc(models.vgg16_bn(pretrained=True))\n",
        "      self.net.to(device)\n",
        "      \n",
        "    def fit(self,trainloader,testloader,opt,loss_fn,epochs = 5):\n",
        "      acc ={}\n",
        "      for e in range(epochs):\n",
        "        acc[e] = self.predict(testloader)\n",
        "        self.net.train()\n",
        "        for i,data in enumerate(trainloader,0):\n",
        "          image,label = data\n",
        "          image = image.to(device)\n",
        "          label = label.to(device)\n",
        "          opt.zero_grad()\n",
        "          pred = self.forward(image)\n",
        "          loss = loss_fn(pred,label)\n",
        "          loss.backward()\n",
        "          opt.step()\n",
        "        print('end of epoch %d'%(e+1))\n",
        "      plt.plot(acc.values())\n",
        "      plt.show()\n",
        "      print('Accuracy = %f'%acc[epochs-1])\n",
        "        \n",
        "    def predict(self,testloader):\n",
        "        self.net.eval()\n",
        "        success = 0\n",
        "        total = 0\n",
        "        images,labels = next(iter(testloader))\n",
        "        labels = labels.to(device)\n",
        "        pred = self.forward(images)\n",
        "        for i in range(pred.shape[0]):\n",
        "          total+=1\n",
        "          if(pred.argmax(-1)[i]==labels[i]):\n",
        "            success +=1\n",
        "        return (success/total)\n",
        "      \n",
        "    def forward(self, X):\n",
        "      return self.net(self.make_color(X))\n",
        "    \n",
        "    def make_color(self,images):\n",
        "      newbatch = torch.zeros(images.shape[0],3,images.shape[2],images.shape[3])\n",
        "      for i in range(images.shape[0]):\n",
        "        newbatch[i][0] = images[i][0]\n",
        "        newbatch[i][1] = images[i][0]\n",
        "        newbatch[i][2] = images[i][0]\n",
        "      newbatch = newbatch.to(device)\n",
        "      return newbatch\n",
        "    \n",
        "    def modify_fc(self,model):\n",
        "      for param in model.features.parameters():\n",
        "        param.require_grad = False\n",
        "      num_in_features = model.classifier[6].in_features\n",
        "      mod_classifier = list(model.classifier.children())[:-1]\n",
        "      mod_classifier.extend([nn.Linear(num_in_features,10)])\n",
        "      model.classifier = nn.Sequential(*mod_classifier)\n",
        "      model = model.to(device)\n",
        "      return model\n",
        "      \n",
        "    def get_params(self):\n",
        "      return self.net.parameters()\n"
      ],
      "execution_count": 0,
      "outputs": []
    },
    {
      "cell_type": "code",
      "metadata": {
        "id": "L1jiyg0aFpIr",
        "colab_type": "code",
        "colab": {}
      },
      "source": [
        "def driver_mnistcnn():\n",
        "  mnistnet = MNISTCNNModel()\n",
        "  loss_fn = nn.CrossEntropyLoss()\n",
        "  opt = optim.SGD(mnistnet.get_params(),lr=0.01)\n",
        "  mnistnet.fit(get_train_loader(),get_test_loader(),opt,loss_fn)\n",
        "  \n"
      ],
      "execution_count": 0,
      "outputs": []
    },
    {
      "cell_type": "code",
      "metadata": {
        "id": "by9lrvTd_JFa",
        "colab_type": "code",
        "colab": {
          "base_uri": "https://localhost:8080/",
          "height": 373
        },
        "outputId": "d83c4281-d19d-4efc-db9c-fc638e5fceb8"
      },
      "source": [
        "driver_mnistcnn()"
      ],
      "execution_count": 61,
      "outputs": [
        {
          "output_type": "stream",
          "text": [
            "end of epoch 1\n",
            "end of epoch 2\n",
            "end of epoch 3\n",
            "end of epoch 4\n",
            "end of epoch 5\n"
          ],
          "name": "stdout"
        },
        {
          "output_type": "display_data",
          "data": {
            "image/png": "[encoded data removed]",
            "text/plain": [
              "<Figure size 432x288 with 1 Axes>"
            ]
          },
          "metadata": {
            "tags": []
          }
        },
        {
          "output_type": "stream",
          "text": [
            "Accuracy = 1.000000\n"
          ],
          "name": "stdout"
        }
      ]
    },
    {
      "cell_type": "code",
      "metadata": {
        "id": "x1VIHK9RGWhp",
        "colab_type": "code",
        "colab": {}
      },
      "source": [
        " "
      ],
      "execution_count": 0,
      "outputs": []
    }
  ]
}