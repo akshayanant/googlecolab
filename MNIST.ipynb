{
  "nbformat": 4,
  "nbformat_minor": 0,
  "metadata": {
    "colab": {
      "name": "MNIST.ipynb",
      "version": "0.3.2",
      "provenance": [],
      "include_colab_link": true
    },
    "kernelspec": {
      "name": "python3",
      "display_name": "Python 3"
    }
  },
  "cells": [
    {
      "cell_type": "markdown",
      "metadata": {
        "id": "view-in-github",
        "colab_type": "text"
      },
      "source": [
        "<a href=\"https://colab.research.google.com/github/akshayanant/googlecolab/blob/master/MNIST.ipynb\" target=\"_parent\"><img src=\"https://colab.research.google.com/assets/colab-badge.svg\" alt=\"Open In Colab\"/></a>"
      ]
    },
    {
      "cell_type": "code",
      "metadata": {
        "id": "67JcpHIJkj2p",
        "colab_type": "code",
        "colab": {}
      },
      "source": [
        "import torch\n",
        "import numpy as np\n",
        "import matplotlib.pyplot as plt\n",
        "\n",
        "import torchvision\n",
        "import torchvision.transforms as transforms\n",
        "import torch.nn as nn\n",
        "import torch.optim as optim"
      ],
      "execution_count": 0,
      "outputs": []
    },
    {
      "cell_type": "code",
      "metadata": {
        "id": "WeyHtpwqBz0R",
        "colab_type": "code",
        "colab": {}
      },
      "source": [
        ""
      ],
      "execution_count": 0,
      "outputs": []
    },
    {
      "cell_type": "code",
      "metadata": {
        "id": "IpN6RXulmYPz",
        "colab_type": "code",
        "colab": {}
      },
      "source": [
        "transient = torchvision.datasets.MNIST(root='./data', train=True, \n",
        "                                        download=True, \n",
        "                                        transform=transforms.ToTensor())"
      ],
      "execution_count": 0,
      "outputs": []
    },
    {
      "cell_type": "code",
      "metadata": {
        "id": "0sJw4xqKmuBC",
        "colab_type": "code",
        "colab": {}
      },
      "source": [
        "batch_size = 4"
      ],
      "execution_count": 0,
      "outputs": []
    },
    {
      "cell_type": "code",
      "metadata": {
        "id": "hDuK36Atm-HK",
        "colab_type": "code",
        "colab": {}
      },
      "source": [
        "trainloader = torch.utils.data.DataLoader(transient,batch_size = batch_size,shuffle = True)"
      ],
      "execution_count": 0,
      "outputs": []
    },
    {
      "cell_type": "code",
      "metadata": {
        "id": "LkMft_07nb3L",
        "colab_type": "code",
        "outputId": "b8a83069-f1ac-4297-c027-2dd75069ddf1",
        "colab": {
          "base_uri": "https://localhost:8080/",
          "height": 52
        }
      },
      "source": [
        "dataiter = iter(trainloader)\n",
        "images,labels = dataiter.next()\n",
        "\n",
        "print(images.shape)\n",
        "print(labels.shape)"
      ],
      "execution_count": 0,
      "outputs": [
        {
          "output_type": "stream",
          "text": [
            "torch.Size([4, 1, 28, 28])\n",
            "torch.Size([4])\n"
          ],
          "name": "stdout"
        }
      ]
    },
    {
      "cell_type": "code",
      "metadata": {
        "id": "eJTIuPIFnvjS",
        "colab_type": "code",
        "colab": {}
      },
      "source": [
        "def plot_image(image):\n",
        "  plt.imshow(np.transpose(image,(1,2,0)).squeeze())\n",
        "  plt.show\n",
        "  "
      ],
      "execution_count": 0,
      "outputs": []
    },
    {
      "cell_type": "code",
      "metadata": {
        "id": "Z__rD9QirAkj",
        "colab_type": "code",
        "outputId": "cbee0cb8-f0cc-4ed6-b92c-e22c8fb9c588",
        "colab": {
          "base_uri": "https://localhost:8080/",
          "height": 35
        }
      },
      "source": [
        "np.transpose(images[0],(1,2,0)).shape"
      ],
      "execution_count": 0,
      "outputs": [
        {
          "output_type": "execute_result",
          "data": {
            "text/plain": [
              "torch.Size([28, 28, 1])"
            ]
          },
          "metadata": {
            "tags": []
          },
          "execution_count": 117
        }
      ]
    },
    {
      "cell_type": "code",
      "metadata": {
        "id": "7_GU6AXzrF9D",
        "colab_type": "code",
        "outputId": "f0a35553-f316-43b5-9e5c-e759e817b9fc",
        "colab": {
          "base_uri": "https://localhost:8080/",
          "height": 269
        }
      },
      "source": [
        "plot_image(images[0])"
      ],
      "execution_count": 0,
      "outputs": [
        {
          "output_type": "display_data",
          "data": {
            "image/png": "[encoded data removed]",
            "text/plain": [
              "<Figure size 432x288 with 1 Axes>"
            ]
          },
          "metadata": {
            "tags": []
          }
        }
      ]
    },
    {
      "cell_type": "code",
      "metadata": {
        "id": "iGV6_TIfrsMr",
        "colab_type": "code",
        "colab": {}
      },
      "source": [
        "class MyMNISTNet(nn.Module):\n",
        "  \n",
        "  def __init__(self):\n",
        "    torch.manual_seed(0)\n",
        "    super(MyMNISTNet, self).__init__()\n",
        "    self.net = nn.Sequential(nn.Linear(784,48),\n",
        "                             nn.ReLU(),\n",
        "                             nn.Linear(48,24),\n",
        "                             nn.ReLU(),\n",
        "                             nn.Linear(24,10))\n",
        "    \n",
        "  def forward(self, X):\n",
        "    return self.net(X.view(X.size(0),-1))\n",
        "  "
      ],
      "execution_count": 0,
      "outputs": []
    },
    {
      "cell_type": "code",
      "metadata": {
        "id": "seAXEbD4wGwJ",
        "colab_type": "code",
        "colab": {}
      },
      "source": [
        "mnistnet = MyMNISTNet()\n",
        "loss_fn = nn.CrossEntropyLoss()\n",
        "opt = optim.Adam(mnistnet.parameters(),lr=0.01)\n",
        "batch_size = 512\n",
        "trainloader = torch.utils.data.DataLoader(transient,batch_size = batch_size,shuffle = True)\n"
      ],
      "execution_count": 0,
      "outputs": []
    },
    {
      "cell_type": "code",
      "metadata": {
        "id": "qcsB3m-nwoHj",
        "colab_type": "code",
        "colab": {}
      },
      "source": [
        "def train_net(opt,loss_fn,net,epochs,trainloader):\n",
        "  for e in range(epochs):\n",
        "    for i,data in enumerate(trainloader,0):\n",
        "      image,label = data\n",
        "      opt.zero_grad()\n",
        "      pred = net(image)\n",
        "      loss = loss_fn(pred,label)\n",
        "      loss.backward()\n",
        "      opt.step()\n",
        "      if(i%100==0):\n",
        "        eval(net)\n",
        "      "
      ],
      "execution_count": 0,
      "outputs": []
    },
    {
      "cell_type": "code",
      "metadata": {
        "id": "qLaF4svMzMsT",
        "colab_type": "code",
        "colab": {}
      },
      "source": [
        "def eval(mnistnet,train= True):\n",
        "  batch_size_in = batch_size\n",
        "  mnistnet.eval()\n",
        "  if(train!=True):\n",
        "    batch_size_in = 100\n",
        "    transient_test = torchvision.datasets.MNIST(root='./data', train=False, \n",
        "                                            download=True, \n",
        "                                            transform=transforms.ToTensor())\n",
        "    trainloader_test = torch.utils.data.DataLoader(transient_test,batch_size = batch_size_in,shuffle = True)\n",
        "    success = 0\n",
        "    images,labels = next(iter(trainloader_test))\n",
        "    pred = mnistnet(images)\n",
        "    \n",
        "  else:\n",
        "    success = 0\n",
        "    images,labels = next(iter(trainloader))\n",
        "    pred = mnistnet(images)\n",
        "  for i in range(pred.shape[0]):\n",
        "    if(pred.argmax(-1)[i]==labels[i]):\n",
        "      success +=1\n",
        "  print('Accuracy = ',success/batch_size_in)\n"
      ],
      "execution_count": 0,
      "outputs": []
    },
    {
      "cell_type": "code",
      "metadata": {
        "id": "mJI_YVup2dnz",
        "colab_type": "code",
        "outputId": "1a48d088-b68c-49cf-e167-149856fc66f0",
        "colab": {
          "base_uri": "https://localhost:8080/",
          "height": 191
        }
      },
      "source": [
        "train_net(opt,loss_fn,mnistnet,5,trainloader)"
      ],
      "execution_count": 0,
      "outputs": [
        {
          "output_type": "stream",
          "text": [
            "Accuracy =  0.322265625\n",
            "Accuracy =  0.93359375\n",
            "Accuracy =  0.923828125\n",
            "Accuracy =  0.95703125\n",
            "Accuracy =  0.955078125\n",
            "Accuracy =  0.9765625\n",
            "Accuracy =  0.951171875\n",
            "Accuracy =  0.9765625\n",
            "Accuracy =  0.9765625\n",
            "Accuracy =  0.982421875\n"
          ],
          "name": "stdout"
        }
      ]
    },
    {
      "cell_type": "code",
      "metadata": {
        "id": "p7tWdg1wB6-U",
        "colab_type": "code",
        "outputId": "99d4b4cd-3783-4fa6-d22c-54b7b170a254",
        "colab": {
          "base_uri": "https://localhost:8080/",
          "height": 35
        }
      },
      "source": [
        "eval(mnistnet,False)"
      ],
      "execution_count": 0,
      "outputs": [
        {
          "output_type": "stream",
          "text": [
            "Accuracy =  0.96\n"
          ],
          "name": "stdout"
        }
      ]
    },
    {
      "cell_type": "code",
      "metadata": {
        "id": "ViInc_4nFDO7",
        "colab_type": "code",
        "colab": {}
      },
      "source": [
        ""
      ],
      "execution_count": 0,
      "outputs": []
    }
  ]
}